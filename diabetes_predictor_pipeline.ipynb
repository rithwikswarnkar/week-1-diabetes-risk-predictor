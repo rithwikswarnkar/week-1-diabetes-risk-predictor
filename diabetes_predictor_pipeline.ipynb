{
 "cells": [
  {
   "cell_type": "markdown",
   "id": "ac4a216b",
   "metadata": {},
   "source": [
    "# Diabetes Outcome Prediction: Preprocessing, Tuning, and Visualization Pipeline"
   ]
  },
  {
   "cell_type": "code",
   "execution_count": 3,
   "id": "376daa0b",
   "metadata": {},
   "outputs": [],
   "source": [
    "# =========================\n",
    "# Cell 1: Imports\n",
    "# =========================\n",
    "\n",
    "import numpy as np\n",
    "import pandas as pd\n",
    "\n",
    "from sklearn.base import BaseEstimator, TransformerMixin\n",
    "from sklearn.pipeline import Pipeline\n",
    "from sklearn.compose import ColumnTransformer\n",
    "from sklearn.preprocessing import RobustScaler\n",
    "from sklearn.impute import SimpleImputer\n",
    "from sklearn.linear_model import LogisticRegression\n",
    "from sklearn.model_selection import train_test_split, StratifiedKFold, GridSearchCV\n",
    "from sklearn.metrics import classification_report\n"
   ]
  },
  {
   "cell_type": "markdown",
   "id": "41c125ed",
   "metadata": {},
   "source": [
    "# Diabetes Risk Predictor with Pipelines\n",
    "\n",
    "This notebook combines **preprocessing + training** into a single reproducible\n",
    "scikit-learn pipeline.  \n",
    "\n",
    "Steps:\n",
    "1. Load dataset  \n",
    "2. Split into train/test (70/30)  \n",
    "3. Build preprocessing transformers (Winsorizer → Median Imputer → RobustScaler)  \n",
    "4. Wrap with Logistic Regression model  \n",
    "5. Use GridSearchCV with StratifiedKFold to tune hyperparameters  \n",
    "6. Evaluate best model on the test set\n"
   ]
  },
  {
   "cell_type": "code",
   "execution_count": 4,
   "id": "6f054f85",
   "metadata": {},
   "outputs": [
    {
     "name": "stdout",
     "output_type": "stream",
     "text": [
      "Dataset shape: (768, 9)\n"
     ]
    },
    {
     "data": {
      "text/html": [
       "<div>\n",
       "<style scoped>\n",
       "    .dataframe tbody tr th:only-of-type {\n",
       "        vertical-align: middle;\n",
       "    }\n",
       "\n",
       "    .dataframe tbody tr th {\n",
       "        vertical-align: top;\n",
       "    }\n",
       "\n",
       "    .dataframe thead th {\n",
       "        text-align: right;\n",
       "    }\n",
       "</style>\n",
       "<table border=\"1\" class=\"dataframe\">\n",
       "  <thead>\n",
       "    <tr style=\"text-align: right;\">\n",
       "      <th></th>\n",
       "      <th>Pregnancies</th>\n",
       "      <th>Glucose</th>\n",
       "      <th>BloodPressure</th>\n",
       "      <th>SkinThickness</th>\n",
       "      <th>Insulin</th>\n",
       "      <th>BMI</th>\n",
       "      <th>DiabetesPedigreeFunction</th>\n",
       "      <th>Age</th>\n",
       "      <th>Outcome</th>\n",
       "    </tr>\n",
       "  </thead>\n",
       "  <tbody>\n",
       "    <tr>\n",
       "      <th>0</th>\n",
       "      <td>6</td>\n",
       "      <td>148</td>\n",
       "      <td>72</td>\n",
       "      <td>35</td>\n",
       "      <td>0</td>\n",
       "      <td>33.6</td>\n",
       "      <td>0.627</td>\n",
       "      <td>50</td>\n",
       "      <td>1</td>\n",
       "    </tr>\n",
       "    <tr>\n",
       "      <th>1</th>\n",
       "      <td>1</td>\n",
       "      <td>85</td>\n",
       "      <td>66</td>\n",
       "      <td>29</td>\n",
       "      <td>0</td>\n",
       "      <td>26.6</td>\n",
       "      <td>0.351</td>\n",
       "      <td>31</td>\n",
       "      <td>0</td>\n",
       "    </tr>\n",
       "    <tr>\n",
       "      <th>2</th>\n",
       "      <td>8</td>\n",
       "      <td>183</td>\n",
       "      <td>64</td>\n",
       "      <td>0</td>\n",
       "      <td>0</td>\n",
       "      <td>23.3</td>\n",
       "      <td>0.672</td>\n",
       "      <td>32</td>\n",
       "      <td>1</td>\n",
       "    </tr>\n",
       "    <tr>\n",
       "      <th>3</th>\n",
       "      <td>1</td>\n",
       "      <td>89</td>\n",
       "      <td>66</td>\n",
       "      <td>23</td>\n",
       "      <td>94</td>\n",
       "      <td>28.1</td>\n",
       "      <td>0.167</td>\n",
       "      <td>21</td>\n",
       "      <td>0</td>\n",
       "    </tr>\n",
       "    <tr>\n",
       "      <th>4</th>\n",
       "      <td>0</td>\n",
       "      <td>137</td>\n",
       "      <td>40</td>\n",
       "      <td>35</td>\n",
       "      <td>168</td>\n",
       "      <td>43.1</td>\n",
       "      <td>2.288</td>\n",
       "      <td>33</td>\n",
       "      <td>1</td>\n",
       "    </tr>\n",
       "  </tbody>\n",
       "</table>\n",
       "</div>"
      ],
      "text/plain": [
       "   Pregnancies  Glucose  BloodPressure  SkinThickness  Insulin   BMI  \\\n",
       "0            6      148             72             35        0  33.6   \n",
       "1            1       85             66             29        0  26.6   \n",
       "2            8      183             64              0        0  23.3   \n",
       "3            1       89             66             23       94  28.1   \n",
       "4            0      137             40             35      168  43.1   \n",
       "\n",
       "   DiabetesPedigreeFunction  Age  Outcome  \n",
       "0                     0.627   50        1  \n",
       "1                     0.351   31        0  \n",
       "2                     0.672   32        1  \n",
       "3                     0.167   21        0  \n",
       "4                     2.288   33        1  "
      ]
     },
     "execution_count": 4,
     "metadata": {},
     "output_type": "execute_result"
    }
   ],
   "source": [
    "# =========================\n",
    "# Cell 2: Load data\n",
    "# =========================\n",
    "DATA_PATH = \"/home/rithwik/AI_ML/Week_1_Diabetes_Risk_Predictor/diabetes.csv\"\n",
    "\n",
    "df = pd.read_csv(DATA_PATH)\n",
    "print(\"Dataset shape:\", df.shape)\n",
    "df.head()\n"
   ]
  },
  {
   "cell_type": "markdown",
   "id": "65504a2d",
   "metadata": {},
   "source": [
    "## Custom Transformer: Winsorizer\n",
    "\n",
    "We cap extreme values for **Insulin** and **SkinThickness** at a threshold.\n"
   ]
  },
  {
   "cell_type": "code",
   "execution_count": 5,
   "id": "dca032a7",
   "metadata": {},
   "outputs": [],
   "source": [
    "# =========================\n",
    "# Cell 3: Winsorizer class\n",
    "# =========================\n",
    "\n",
    "class Winsorizer(BaseEstimator, TransformerMixin):\n",
    "    def __init__(self, cols=None):\n",
    "        self.cols = cols\n",
    "        self.caps_ = {}\n",
    "\n",
    "    def fit(self, X, y=None):\n",
    "        X = pd.DataFrame(X, columns=self.cols)\n",
    "        self.caps_[\"Insulin\"] = X[\"Insulin\"].quantile(0.95 + 0.05*0.75)\n",
    "        self.caps_[\"SkinThickness\"] = X[\"SkinThickness\"].quantile(0.95 + 0.05*0.75)\n",
    "        return self\n",
    "\n",
    "    def transform(self, X):\n",
    "        X = pd.DataFrame(X, columns=self.cols).copy()\n",
    "        for col, cap in self.caps_.items():\n",
    "            X[col] = X[col].clip(upper=cap)\n",
    "        return X.values"
   ]
  },
  {
   "cell_type": "markdown",
   "id": "b11b8a7c",
   "metadata": {},
   "source": [
    "## Preprocessing Pipeline\n",
    "\n",
    "- Replace 0 with NaN in specific columns  \n",
    "- Winsorize extreme values  \n",
    "- Median imputation  \n",
    "- Robust scaling\n"
   ]
  },
  {
   "cell_type": "code",
   "execution_count": 6,
   "id": "9b47a540",
   "metadata": {},
   "outputs": [],
   "source": [
    "# =========================\n",
    "# Cell 4: Build preprocessing pipeline\n",
    "# =========================\n",
    "features = ['Pregnancies', 'Glucose', 'BloodPressure', 'SkinThickness',\n",
    "            'Insulin', 'BMI', 'DiabetesPedigreeFunction', 'Age']\n",
    "\n",
    "# Force copy to avoid SettingWithCopyWarning\n",
    "X = df[features].copy()\n",
    "y = df[\"Outcome\"]\n",
    "\n",
    "# Replace zeros with NaN in specific columns\n",
    "zero_as_missing = [\"Glucose\", \"BloodPressure\", \"SkinThickness\", \"Insulin\", \"BMI\"]\n",
    "X[zero_as_missing] = X[zero_as_missing].replace(0, np.nan)\n",
    "\n",
    "numeric_transformer = Pipeline(steps=[\n",
    "    (\"winsor\", Winsorizer(cols=features)),\n",
    "    (\"imputer\", SimpleImputer(strategy=\"median\")),\n",
    "    (\"scaler\", RobustScaler())\n",
    "])\n",
    "\n",
    "preprocessor = ColumnTransformer(\n",
    "    transformers=[(\"num\", numeric_transformer, features)]\n",
    ")"
   ]
  },
  {
   "cell_type": "markdown",
   "id": "8090f292",
   "metadata": {},
   "source": [
    "## Full Pipeline (Preprocessing + Model)\n",
    "\n",
    "We now combine the preprocessor with **Logistic Regression**.\n"
   ]
  },
  {
   "cell_type": "code",
   "execution_count": 7,
   "id": "81edb33d",
   "metadata": {},
   "outputs": [],
   "source": [
    "# =========================\n",
    "# Cell 5: Full pipeline with classifier\n",
    "# =========================\n",
    "\n",
    "clf = Pipeline(steps=[\n",
    "    (\"preprocessor\", preprocessor),\n",
    "    (\"classifier\", LogisticRegression(max_iter=500))\n",
    "])\n"
   ]
  },
  {
   "cell_type": "markdown",
   "id": "6e6ce52a",
   "metadata": {},
   "source": [
    "## Train-Test Split\n",
    "\n",
    "We’ll split into 70% training and 30% testing since the dataset is small.\n"
   ]
  },
  {
   "cell_type": "code",
   "execution_count": 8,
   "id": "cd4c4cf0",
   "metadata": {},
   "outputs": [
    {
     "name": "stdout",
     "output_type": "stream",
     "text": [
      "Train shape: (537, 8) Test shape: (231, 8)\n"
     ]
    }
   ],
   "source": [
    "# =========================\n",
    "# Cell 6: Train/Test Split\n",
    "# =========================\n",
    "X_train, X_test, y_train, y_test = train_test_split(\n",
    "    X, y, test_size=0.3, stratify=y, random_state=42\n",
    ")\n",
    "print(\"Train shape:\", X_train.shape, \"Test shape:\", X_test.shape)\n"
   ]
  },
  {
   "cell_type": "markdown",
   "id": "6d59ed3a",
   "metadata": {},
   "source": [
    "## Hyperparameter Tuning with GridSearchCV\n",
    "\n",
    "We’ll tune **C, penalty, solver, and class_weight**, using **5-fold Stratified CV**,\n",
    "scoring by F1.\n"
   ]
  },
  {
   "cell_type": "code",
   "execution_count": 9,
   "id": "947c63d8",
   "metadata": {},
   "outputs": [
    {
     "name": "stdout",
     "output_type": "stream",
     "text": [
      "Best params: {'classifier__C': 10, 'classifier__class_weight': 'balanced', 'classifier__penalty': 'l1', 'classifier__solver': 'liblinear'}\n",
      "Best CV F1: 0.6727229701069363\n"
     ]
    }
   ],
   "source": [
    "# =========================\n",
    "# Cell 7: GridSearchCV\n",
    "# =========================\n",
    "\n",
    "param_grid = {\n",
    "    \"classifier__C\": [0.1, 1, 10],\n",
    "    \"classifier__penalty\": [\"l1\", \"l2\"],\n",
    "    \"classifier__solver\": [\"liblinear\"],\n",
    "    \"classifier__class_weight\": [None, \"balanced\"]\n",
    "}\n",
    "\n",
    "cv = StratifiedKFold(n_splits=5, shuffle=True, random_state=42)\n",
    "\n",
    "grid_search = GridSearchCV(clf, param_grid, cv=cv, scoring=\"f1\", n_jobs=-1)\n",
    "grid_search.fit(X_train, y_train)\n",
    "\n",
    "print(\"Best params:\", grid_search.best_params_)\n",
    "print(\"Best CV F1:\", grid_search.best_score_)\n"
   ]
  },
  {
   "cell_type": "markdown",
   "id": "10ac096f",
   "metadata": {},
   "source": [
    "## Final Evaluation on Test Set\n"
   ]
  },
  {
   "cell_type": "code",
   "execution_count": 10,
   "id": "fecbbb39",
   "metadata": {},
   "outputs": [
    {
     "name": "stdout",
     "output_type": "stream",
     "text": [
      "Classification Report (Test Set):\n",
      "              precision    recall  f1-score   support\n",
      "\n",
      "           0       0.83      0.79      0.81       150\n",
      "           1       0.64      0.69      0.67        81\n",
      "\n",
      "    accuracy                           0.76       231\n",
      "   macro avg       0.74      0.74      0.74       231\n",
      "weighted avg       0.76      0.76      0.76       231\n",
      "\n"
     ]
    }
   ],
   "source": [
    "# =========================\n",
    "# Cell 8: Evaluate\n",
    "# =========================\n",
    "best_model = grid_search.best_estimator_\n",
    "\n",
    "y_pred = best_model.predict(X_test)\n",
    "\n",
    "print(\"Classification Report (Test Set):\")\n",
    "print(classification_report(y_test, y_pred))\n"
   ]
  },
  {
   "cell_type": "markdown",
   "id": "3d8e00be",
   "metadata": {},
   "source": [
    "## Visual Evaluation\n"
   ]
  },
  {
   "cell_type": "code",
   "execution_count": 11,
   "id": "5dd2a2fd",
   "metadata": {},
   "outputs": [
    {
     "data": {
      "image/png": "[encoded data removed]",
      "text/plain": [
       "<Figure size 500x400 with 2 Axes>"
      ]
     },
     "metadata": {},
     "output_type": "display_data"
    },
    {
     "data": {
      "image/png": "[encoded data removed]",
      "text/plain": [
       "<Figure size 600x500 with 1 Axes>"
      ]
     },
     "metadata": {},
     "output_type": "display_data"
    },
    {
     "data": {
      "image/png": "[encoded data removed]",
      "text/plain": [
       "<Figure size 800x400 with 1 Axes>"
      ]
     },
     "metadata": {},
     "output_type": "display_data"
    }
   ],
   "source": [
    "# =========================\n",
    "# Cell 9: Visual Evaluation\n",
    "# =========================\n",
    "import matplotlib.pyplot as plt\n",
    "import seaborn as sns\n",
    "from sklearn.metrics import confusion_matrix, roc_curve, roc_auc_score, precision_recall_curve, auc\n",
    "\n",
    "# ---------- Confusion Matrix ----------\n",
    "cm = confusion_matrix(y_test, y_pred)\n",
    "plt.figure(figsize=(5,4))\n",
    "sns.heatmap(cm, annot=True, fmt='d', cmap='Blues')\n",
    "plt.xlabel(\"Predicted\")\n",
    "plt.ylabel(\"Actual\")\n",
    "plt.title(\"Confusion Matrix\")\n",
    "plt.show()\n",
    "\n",
    "# ---------- ROC Curve ----------\n",
    "y_prob = best_model.predict_proba(X_test)[:, 1]  # Probability estimates for class 1\n",
    "fpr, tpr, thresholds = roc_curve(y_test, y_prob)\n",
    "roc_auc = roc_auc_score(y_test, y_prob)\n",
    "\n",
    "plt.figure(figsize=(6,5))\n",
    "plt.plot(fpr, tpr, color='darkorange', lw=2, label=f'ROC curve (AUC = {roc_auc:.3f})')\n",
    "plt.plot([0,1], [0,1], color='navy', lw=2, linestyle='--')\n",
    "plt.xlabel(\"False Positive Rate\")\n",
    "plt.ylabel(\"True Positive Rate\")\n",
    "plt.title(\"Receiver Operating Characteristic (ROC)\")\n",
    "plt.legend(loc=\"lower right\")\n",
    "plt.show()\n",
    "\n",
    "\n",
    "# ---------- Feature Importance / Coefficients ----------\n",
    "# Only works for linear models like Logistic Regression\n",
    "feature_names = features\n",
    "coefficients = best_model.named_steps['classifier'].coef_[0]\n",
    "\n",
    "coef_df = pd.DataFrame({\"Feature\": feature_names, \"Coefficient\": coefficients})\n",
    "coef_df = coef_df.sort_values(by=\"Coefficient\", key=abs, ascending=False)\n",
    "\n",
    "plt.figure(figsize=(8,4))\n",
    "sns.barplot(x=\"Coefficient\", y=\"Feature\", data=coef_df, palette=\"viridis\", hue=abs(coef_df[\"Coefficient\"]))\n",
    "plt.title(\"Feature Coefficients (Importance)\")\n",
    "plt.show()\n"
   ]
  },
  {
   "cell_type": "markdown",
   "id": "58caf942",
   "metadata": {},
   "source": [
    "# Summary and Future Work\n",
    "\n",
    "## Project Summary\n",
    "This project implements a robust machine learning pipeline for diabetes risk prediction using the PIMA Indians Diabetes dataset. The pipeline incorporates several key data science best practices:\n",
    "\n",
    "1. **Data Preprocessing**: \n",
    "   - Intelligent handling of missing values (zeros converted to NaN)\n",
    "   - Outlier treatment using Winsorization\n",
    "   - Feature scaling with RobustScaler for handling skewed distributions\n",
    "   - Automated pipeline ensuring reproducibility\n",
    "\n",
    "2. **Model Development**:\n",
    "   - Logistic Regression with comprehensive hyperparameter tuning\n",
    "   - Stratified cross-validation ensuring balanced evaluation\n",
    "   - Thorough evaluation metrics including F1-score optimization\n",
    "\n",
    "3. **Visualization**:\n",
    "   - Confusion matrix for error analysis\n",
    "   - ROC curves for threshold sensitivity\n",
    "   - Feature importance visualization for model interpretability\n",
    "\n",
    "## Key Findings\n",
    "The model achieves reasonable performance in predicting diabetes risk, with the feature importance analysis revealing that Glucose levels, BMI, and Age are among the most significant predictors.\n",
    "\n",
    "## Future Extensions\n",
    "\n",
    "1. **Model Enhancements**:\n",
    "   - Experiment with more advanced algorithms (XGBoost, LightGBM)\n",
    "   - Implement feature engineering for interaction effects\n",
    "   - Explore neural networks for complex pattern detection\n",
    "\n",
    "2. **Pipeline Improvements**:\n",
    "   - Add feature selection methods (LASSO, Elastic Net)\n",
    "   - Implement more sophisticated imputation techniques (MICE, KNN)\n",
    "   - Add automated feature importance threshold selection\n",
    "\n",
    "3. **Clinical Applications**:\n",
    "   - Develop a web interface for real-time predictions\n",
    "   - Integrate with electronic health records\n",
    "   - Add confidence intervals for predictions\n",
    "   - Include model explainability tools (SHAP, LIME)\n",
    "\n",
    "4. **Data Enhancement**:\n",
    "   - Collect additional relevant features\n",
    "   - Include temporal data for longitudinal analysis\n",
    "   - Consider demographic factors for stratified analysis\n",
    "\n",
    "This work serves as a foundation for developing more sophisticated diabetes risk prediction models, with potential applications in clinical decision support systems."
   ]
  },
  {
   "cell_type": "code",
   "execution_count": 12,
   "id": "70e7bd97",
   "metadata": {},
   "outputs": [
    {
     "data": {
      "text/plain": [
       "['diabetes_model.pkl']"
      ]
     },
     "execution_count": 12,
     "metadata": {},
     "output_type": "execute_result"
    }
   ],
   "source": [
    "import joblib\n",
    "\n",
    "joblib.dump(best_model, \"diabetes_model.pkl\")\n"
   ]
  },
  {
   "cell_type": "markdown",
   "id": "dc3b8830",
   "metadata": {},
   "source": []
  }
 ],
 "metadata": {
  "kernelspec": {
   "display_name": "myenv1",
   "language": "python",
   "name": "python3"
  },
  "language_info": {
   "codemirror_mode": {
    "name": "ipython",
    "version": 3
   },
   "file_extension": ".py",
   "mimetype": "text/x-python",
   "name": "python",
   "nbconvert_exporter": "python",
   "pygments_lexer": "ipython3",
   "version": "3.10.18"
  }
 },
 "nbformat": 4,
 "nbformat_minor": 5
}
